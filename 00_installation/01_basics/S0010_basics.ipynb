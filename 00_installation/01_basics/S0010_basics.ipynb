{
 "cells": [
  {
   "cell_type": "markdown",
   "id": "c40d1a45-f8cb-4265-ab24-1298ee9a13e6",
   "metadata": {},
   "source": [
    "### Variables, Assignments, Operators"
   ]
  },
  {
   "cell_type": "markdown",
   "id": "c0400477-8237-44fc-a6e4-711b35ac9729",
   "metadata": {},
   "source": [
    "Klik på den næste celle og tryk så Shift+Enter for at udføre koden i cellen."
   ]
  },
  {
   "cell_type": "code",
   "execution_count": null,
   "id": "2e9843e0-cdc6-4a10-a1cc-81a07f91ea0c",
   "metadata": {},
   "outputs": [],
   "source": [
    "print(\"hello world\")"
   ]
  },
  {
   "cell_type": "markdown",
   "id": "a7829e39-3751-493e-be90-cd58019aefa8",
   "metadata": {},
   "source": [
    "Tillykke, du har udført  dit første python script :)  \n",
    "Klik på den næste celle og ændr teksten mellem \"\". Derefter udfør koden i cellen."
   ]
  },
  {
   "cell_type": "code",
   "execution_count": null,
   "id": "80f685f3-f53d-4344-a33b-23f518704b90",
   "metadata": {},
   "outputs": [],
   "source": [
    "print(\"ændr det her\")"
   ]
  },
  {
   "cell_type": "markdown",
   "id": "3a749d02-a80a-4de0-9516-521e64b71907",
   "metadata": {},
   "source": [
    "##### [Læs afsnittet \"Python Basics\"](https://www.freecodecamp.org/news/the-python-handbook/#pythonbasics) (klik på linket)"
   ]
  },
  {
   "cell_type": "markdown",
   "id": "9b5b82e2-e896-4362-863a-f13168a60b55",
   "metadata": {},
   "source": [
    "(Læs bare til overskriften \"Data Types in Python\". Der begynder den næste afsnit.)  \n",
    "Udfør den næste celle. Der opstår en fejl. Hvorfor? \"Udkommenter\" den fejlagtige kodelinje  idet du sætter en # foran den.  Udfør cellen igen."
   ]
  },
  {
   "cell_type": "code",
   "execution_count": null,
   "id": "84ae8800-9473-4306-b2f6-6cda44fe5df5",
   "metadata": {},
   "outputs": [],
   "source": [
    "u7 = 6.87  # Cifre er ok. Men ikke som variablenavnens første symbol.\n",
    "øøø = \"test\"  # Tilladt. Men bruge helst bare de 26 engelske standard bogstaver.\n",
    "4forbudt = 3  # Forbudt.\n",
    "Dont_do_this = 2  # Brug ikke store bogstaver i variablenavne\n",
    "AbsolutelyDontDoThis = 5  # Brug heller ikke CamelCase i variablenavne\n",
    "# Det er en konvention (god programmeringsskik) i Python, ikke at benytte store bogstaver i variablenavne.\n",
    "print(\"Success!\")"
   ]
  },
  {
   "cell_type": "markdown",
   "id": "988ed172-ebab-4816-b6e0-9bc8e14b191a",
   "metadata": {},
   "source": [
    "Udfør den næste celle. Også her opstår en fejl. Hvorfor? Udkommenter den fejlagtige kodelinje og udfør cellen igen."
   ]
  },
  {
   "cell_type": "code",
   "execution_count": 2,
   "id": "e2f32b34-1415-4835-b832-023f36bfcd38",
   "metadata": {},
   "outputs": [
    {
     "name": "stdout",
     "output_type": "stream",
     "text": [
      "Hurra!\n"
     ]
    }
   ],
   "source": [
    "test_text = 'hello' # Benyt _ (Underscore) for at adskille ord i et variablenavn.\n",
    "cl_ass = 17\n",
    "xyz = 6.23\n",
    "print(\"Hurra!\")"
   ]
  },
  {
   "cell_type": "markdown",
   "id": "ac3e4e7b-113b-4cff-a121-98813c17864f",
   "metadata": {},
   "source": [
    "##### [Læs afsnittet \"Data Types in Python\"](https://www.freecodecamp.org/news/the-python-handbook/#datatypesinpython)  (klik på linket)"
   ]
  },
  {
   "cell_type": "markdown",
   "id": "f42bb24f-5c27-485a-a064-a947ab0f7b68",
   "metadata": {},
   "source": [
    "Udfør den næste celle og analyser resultatet. "
   ]
  },
  {
   "cell_type": "code",
   "execution_count": null,
   "id": "ebba1b53-0862-479c-bb35-0c95134473ed",
   "metadata": {},
   "outputs": [],
   "source": [
    "print(123, \"has type\", type(123))\n",
    "\n",
    "x = 64.3\n",
    "print(x, \"has type\", type(x))\n",
    "\n",
    "y = \"python\"\n",
    "print(y, \"has type\", type(y))\n",
    "\n",
    "x = int(x)\n",
    "print(x, \"has type\", type(x))"
   ]
  },
  {
   "cell_type": "markdown",
   "id": "0437a79d-f550-46ee-bf2a-72b2be422c1a",
   "metadata": {},
   "source": [
    "Udfør den næste celle. Derefter tilføj kode i den tomme linje sådan at resultatets sidste række bliver \"20 has type <class 'int'>\" når du udfører cellen igen."
   ]
  },
  {
   "cell_type": "code",
   "execution_count": null,
   "id": "14a258f2-ff58-4bd4-981d-a6b9e4dd9be7",
   "metadata": {},
   "outputs": [],
   "source": [
    "z = \"20\"\n",
    "print(z, \"has type\", type(z))\n",
    "\n",
    "print(z, \"has type\", type(z))"
   ]
  },
  {
   "cell_type": "markdown",
   "id": "ee1d4ed4-dafb-4fec-a095-6fa71994b041",
   "metadata": {},
   "source": [
    "Udfør den næste celle. Der opstår en fejl. Hvorfor? Forandre den fejlagtige kodelinje sådan at der bliver printet \"20 has type <class 'int'>\". Udfør cellen igen."
   ]
  },
  {
   "cell_type": "code",
   "execution_count": null,
   "id": "22524de0-7063-4b53-b9c1-ec6c6be55516",
   "metadata": {},
   "outputs": [],
   "source": [
    "number = \"number 20\"\n",
    "number = int(number)\n",
    "print(number, \"has type\", type(number))\n",
    "print(\"Yay!\")"
   ]
  },
  {
   "cell_type": "markdown",
   "id": "0b6d1a3a-ffa3-4e86-a216-58074a6818e2",
   "metadata": {},
   "source": [
    "##### [Læs afsnittet \"Operators in Python\"](https://www.freecodecamp.org/news/the-python-handbook/#operatorsinpython) (klik på linket)"
   ]
  },
  {
   "cell_type": "markdown",
   "id": "270a81e6-f134-41cd-9663-527e386d3bd7",
   "metadata": {},
   "source": [
    "Udfør de næste celler en ad gangen. Før du udfører en celle, regn resultatet ud på forhånd. Når du får et uventet resultat, find ud af hvorfor.  \n",
    "Leg gerne med cellerne. Forandre dem og udfør dem igen.\n",
    "Du kan også tilføje nye celler."
   ]
  },
  {
   "cell_type": "markdown",
   "id": "a9374133-6f28-460a-a60c-fd0ed7b7a16f",
   "metadata": {},
   "source": [
    "##### Arithmetic operators"
   ]
  },
  {
   "cell_type": "code",
   "execution_count": null,
   "id": "a108bf01-fcbd-4c38-b83f-5f024df30905",
   "metadata": {},
   "outputs": [],
   "source": [
    "a = 5\n",
    "b = 3\n",
    "print(a + b + 2)  # addition"
   ]
  },
  {
   "cell_type": "code",
   "execution_count": null,
   "id": "59db67af-d779-40c6-80df-be4d5e900320",
   "metadata": {},
   "outputs": [],
   "source": [
    "c = a - b  # subtraction\n",
    "print(c * c)  #  multiplication"
   ]
  },
  {
   "cell_type": "code",
   "execution_count": null,
   "id": "74e745c2-b8f0-47d8-8b8e-527b22938ac6",
   "metadata": {},
   "outputs": [],
   "source": [
    "print(a % b)  # remainder (sometimes called modulo)"
   ]
  },
  {
   "cell_type": "code",
   "execution_count": null,
   "id": "b3430d31-eab1-48ea-8b98-91d154acdfc3",
   "metadata": {},
   "outputs": [],
   "source": [
    "print(c)"
   ]
  },
  {
   "cell_type": "code",
   "execution_count": null,
   "id": "9d74ec87-b260-4a48-b259-8d46cfebb139",
   "metadata": {},
   "outputs": [],
   "source": [
    "print(c % c)"
   ]
  },
  {
   "cell_type": "code",
   "execution_count": null,
   "id": "0bf968c0-c507-4712-8006-64433a565dbc",
   "metadata": {},
   "outputs": [],
   "source": [
    "print(a ** c)  # exponentiation"
   ]
  },
  {
   "cell_type": "code",
   "execution_count": null,
   "id": "9feb4ae4-3a5c-4909-b8de-62157a38a748",
   "metadata": {},
   "outputs": [],
   "source": [
    "print(a / c)  # division\n",
    "print(type(a / c))"
   ]
  },
  {
   "cell_type": "code",
   "execution_count": null,
   "id": "09730287-1466-4112-b054-a303a7610cc2",
   "metadata": {},
   "outputs": [],
   "source": [
    "print(a // c)  # floor division\n",
    "print(type(a // c))"
   ]
  },
  {
   "cell_type": "code",
   "execution_count": null,
   "id": "8a5a5ae4-e8ff-4acc-bf0f-b0e9b116def4",
   "metadata": {},
   "outputs": [],
   "source": [
    "d = 17\n",
    "d += 5\n",
    "print(d)\n",
    "d -= 18\n",
    "print(d)"
   ]
  },
  {
   "cell_type": "markdown",
   "id": "33562149-3db4-4ce9-8195-49cdcad9bd4d",
   "metadata": {},
   "source": [
    "##### Comparison operators"
   ]
  },
  {
   "cell_type": "code",
   "execution_count": null,
   "id": "0adef621-332b-411f-9606-8dcc7bb57c31",
   "metadata": {},
   "outputs": [],
   "source": [
    "print(4 > 3)"
   ]
  },
  {
   "cell_type": "code",
   "execution_count": null,
   "id": "9d314ca2-2711-48a7-85a5-b4fad69b3918",
   "metadata": {},
   "outputs": [],
   "source": [
    "print(4 == 3)"
   ]
  },
  {
   "cell_type": "code",
   "execution_count": null,
   "id": "405fdc10-aaf1-4b6f-ad0d-b71aa00bc851",
   "metadata": {},
   "outputs": [],
   "source": [
    "print(4 != 3)"
   ]
  },
  {
   "cell_type": "code",
   "execution_count": null,
   "id": "80250681-cd9d-4910-b338-2a8dbc120992",
   "metadata": {},
   "outputs": [],
   "source": [
    "print(4 <= 3)"
   ]
  },
  {
   "cell_type": "markdown",
   "id": "c7977f72-6410-4b2a-8474-2bdb8902e7db",
   "metadata": {},
   "source": [
    "##### Boolean  operators"
   ]
  },
  {
   "cell_type": "code",
   "execution_count": null,
   "id": "abfe3d6f-bb54-467e-b818-311941bb1487",
   "metadata": {},
   "outputs": [],
   "source": [
    "print(not True)"
   ]
  },
  {
   "cell_type": "code",
   "execution_count": null,
   "id": "ce4ce199-a24a-4d7e-9de4-b4008bef17c2",
   "metadata": {},
   "outputs": [],
   "source": [
    "print(True or False)"
   ]
  },
  {
   "cell_type": "code",
   "execution_count": null,
   "id": "fad7fa92-6f23-4ae1-9a3b-1433eefd5007",
   "metadata": {},
   "outputs": [],
   "source": [
    "print(True and False)"
   ]
  },
  {
   "cell_type": "code",
   "execution_count": null,
   "id": "41ca3724-e12c-429f-be1b-83015b2ae584",
   "metadata": {},
   "outputs": [],
   "source": [
    "bool1 = 5 <= 2\n",
    "bool2 = True\n",
    "print(bool1, bool2)"
   ]
  },
  {
   "cell_type": "code",
   "execution_count": null,
   "id": "90900c5a-e15c-487a-8f3c-161a686cfff5",
   "metadata": {},
   "outputs": [],
   "source": [
    "print(bool1 or bool2)"
   ]
  },
  {
   "cell_type": "markdown",
   "id": "4586e459-3d95-4c91-b95d-0f8e5b2eb8a7",
   "metadata": {},
   "source": [
    "##### The in operator"
   ]
  },
  {
   "cell_type": "code",
   "execution_count": null,
   "id": "78928854-b594-49bd-9dca-ca3b3ce6bfd2",
   "metadata": {},
   "outputs": [],
   "source": [
    "numbers = [3, 1, 8]\n",
    "print(\"numbers has type\", type(numbers))\n",
    "print(2 in numbers)"
   ]
  },
  {
   "cell_type": "code",
   "execution_count": null,
   "id": "f9acade0-98a2-4e31-a6e8-7cba0eb07e04",
   "metadata": {},
   "outputs": [],
   "source": [
    "print(3 in numbers)"
   ]
  },
  {
   "cell_type": "markdown",
   "id": "c9e42d16-9a04-4e2d-a8f2-5881b48927a6",
   "metadata": {},
   "source": [
    "Forstod/løste du alle opgaver på denne side?   \n",
    "Ellers spørg Google, [W3schools](https://www.w3schools.com/python/), andre elever eller læreren (i den rækkefølge).  \n",
    "__Når du forstår (næsten) alt på denne side, send denne tekst som Teams-besked til læreren:  Jeg er færdig med S0010.__"
   ]
  },
  {
   "cell_type": "markdown",
   "id": "68400f4f-2b00-40fd-b186-6719bf2c3cb1",
   "metadata": {},
   "source": [
    "Arbejd videre med den næste Jupyter Notebook."
   ]
  },
  {
   "cell_type": "code",
   "execution_count": null,
   "id": "b6823296-78aa-4a33-a3b9-1a3e4353c953",
   "metadata": {},
   "outputs": [],
   "source": []
  }
 ],
 "metadata": {
  "kernelspec": {
   "display_name": "Python 3 (ipykernel)",
   "language": "python",
   "name": "python3"
  },
  "language_info": {
   "codemirror_mode": {
    "name": "ipython",
    "version": 3
   },
   "file_extension": ".py",
   "mimetype": "text/x-python",
   "name": "python",
   "nbconvert_exporter": "python",
   "pygments_lexer": "ipython3",
   "version": "3.11.5"
  },
  "toc-autonumbering": false,
  "toc-showcode": false,
  "toc-showmarkdowntxt": false,
  "toc-showtags": false
 },
 "nbformat": 4,
 "nbformat_minor": 5
}
