{
 "cells": [
  {
   "cell_type": "markdown",
   "id": "96295c0b-871e-4fd5-8b96-80c7b3d2ae5e",
   "metadata": {},
   "source": [
    "### String Operations, User Input, f-strings, Control Statements"
   ]
  },
  {
   "cell_type": "markdown",
   "id": "e3eebb97-855f-4a88-a4b1-0a7680b3df68",
   "metadata": {},
   "source": [
    "##### [Læs afsnittet \"Strings in Python\"](https://www.freecodecamp.org/news/the-python-handbook/#stringsinpython) (klik på linket)"
   ]
  },
  {
   "cell_type": "markdown",
   "id": "382252ba-a286-484c-ac8d-6b31d9e2af93",
   "metadata": {},
   "source": [
    "Udfør den næste celle og analyser resultatet. "
   ]
  },
  {
   "cell_type": "code",
   "execution_count": null,
   "id": "588a8dad-ea87-4e77-9a00-fc75882270c1",
   "metadata": {},
   "outputs": [],
   "source": [
    "string_1 = \"word1\"\n",
    "string_2 = 'word2'  # I Python kan du benytte \" eller ' for strings. Det er ligemeget.\n",
    "print(string_1 + string_2)\n",
    "print(string_1 + \" \" + string_2)"
   ]
  },
  {
   "cell_type": "markdown",
   "id": "0e060638-e004-4eb1-b89e-a3c7e2f6ed19",
   "metadata": {},
   "source": [
    "Udfør den næste celle. Der opstår en fejl. Hvorfor? Forandre den fejlagtige kodelinje sådan at der bliver printet \"5 is greater than 3\""
   ]
  },
  {
   "cell_type": "code",
   "execution_count": null,
   "id": "e3ae29e0-936a-4cca-8c8e-56ee5d0c9193",
   "metadata": {},
   "outputs": [],
   "source": [
    "number1 = 5\n",
    "number2 = 3\n",
    "print(number1 + \" is greater than \" + number2)"
   ]
  },
  {
   "cell_type": "markdown",
   "id": "19a28354-461f-4838-8ae5-3e971e8e9cd1",
   "metadata": {},
   "source": [
    "Udfør de næste celler en ad gangen. Før du udfører en celle, regn resultatet ud på forhånd. Når du får et uventet resultat, find ud af hvorfor.\n",
    "Leg gerne med cellerne. Forandre dem og udfør dem igen. Du kan også tilføje nye celler."
   ]
  },
  {
   "cell_type": "code",
   "execution_count": null,
   "id": "f470c0fd-8a6a-49b3-abe4-37c21269cc14",
   "metadata": {},
   "outputs": [],
   "source": [
    "string1 = \"hej\"\n",
    "print(string1)"
   ]
  },
  {
   "cell_type": "code",
   "execution_count": null,
   "id": "ec9585d9-912e-4cfe-b43c-f27ae301955d",
   "metadata": {},
   "outputs": [],
   "source": [
    "string1 += \", \"\n",
    "print(string1)"
   ]
  },
  {
   "cell_type": "code",
   "execution_count": null,
   "id": "034c0694-4611-4416-9f72-967fd14ec6e3",
   "metadata": {},
   "outputs": [],
   "source": [
    "string1 += string1\n",
    "print(string1)"
   ]
  },
  {
   "cell_type": "code",
   "execution_count": null,
   "id": "1e5a4d1f-d708-450e-bc4d-d6bbab4437f3",
   "metadata": {},
   "outputs": [],
   "source": [
    "print(string1.upper())"
   ]
  },
  {
   "cell_type": "code",
   "execution_count": null,
   "id": "69aa6d23-3175-4d88-ae5a-52b6a3000d48",
   "metadata": {},
   "outputs": [],
   "source": [
    "print(string1.isupper())"
   ]
  },
  {
   "cell_type": "code",
   "execution_count": null,
   "id": "d63856bf-5bf3-4c78-bbb9-4e214697d930",
   "metadata": {
    "tags": []
   },
   "outputs": [],
   "source": [
    "print(string1.replace(\"e\", \"ø\"))"
   ]
  },
  {
   "cell_type": "code",
   "execution_count": null,
   "id": "cd4864ad-0eed-4a9b-9d22-59692c4a9261",
   "metadata": {},
   "outputs": [],
   "source": [
    "print(string1.split(\"j\"))"
   ]
  },
  {
   "cell_type": "code",
   "execution_count": null,
   "id": "21ae650b-29bc-4789-b2d0-2e95d4cf1032",
   "metadata": {},
   "outputs": [],
   "source": [
    "string2 = \"software\"\n",
    "print(\"h\" in string2)"
   ]
  },
  {
   "cell_type": "code",
   "execution_count": null,
   "id": "647169d0-dc12-4c7f-a8b9-23ca58236190",
   "metadata": {},
   "outputs": [],
   "source": [
    "print(len(string2))"
   ]
  },
  {
   "cell_type": "code",
   "execution_count": null,
   "id": "c8d34225-1e2c-4f4e-b73f-2d440d4291f2",
   "metadata": {},
   "outputs": [],
   "source": [
    "print(string2 + \"\\nNy linje!\")"
   ]
  },
  {
   "cell_type": "code",
   "execution_count": null,
   "id": "1b0c4399-94dd-4ee4-95f6-c901d12aaa4f",
   "metadata": {},
   "outputs": [],
   "source": [
    "print(string2[0])"
   ]
  },
  {
   "cell_type": "code",
   "execution_count": null,
   "id": "aef23a3c-3ce8-405b-9d92-ec6aed551613",
   "metadata": {},
   "outputs": [],
   "source": [
    "print(string2[3])"
   ]
  },
  {
   "cell_type": "code",
   "execution_count": null,
   "id": "56b5ae2a-7c79-4f50-bc41-4aaa8df26526",
   "metadata": {},
   "outputs": [],
   "source": [
    "print(string2[-1])"
   ]
  },
  {
   "cell_type": "code",
   "execution_count": null,
   "id": "c6567c75-2d6b-4498-b805-9232daae1a8e",
   "metadata": {},
   "outputs": [],
   "source": [
    "print(string2[-4])"
   ]
  },
  {
   "cell_type": "code",
   "execution_count": null,
   "id": "9c2cc1a0-6224-4590-b322-ea8753f8bcd6",
   "metadata": {},
   "outputs": [],
   "source": [
    "print(string2[2:])"
   ]
  },
  {
   "cell_type": "code",
   "execution_count": null,
   "id": "2b089016-5a20-401f-a191-dd1a7557239b",
   "metadata": {},
   "outputs": [],
   "source": [
    "print(string2[2:6])"
   ]
  },
  {
   "cell_type": "markdown",
   "id": "96f46e86-5e91-40b6-980e-7675ed0e3d7b",
   "metadata": {},
   "source": [
    "##### [Læs afsnittet \"User Input in Python\"](https://www.freecodecamp.org/news/the-python-handbook/#userinputinpython) (klik på linket)"
   ]
  },
  {
   "cell_type": "markdown",
   "id": "81169767-b14d-437f-9305-b325f8bebb0a",
   "metadata": {},
   "source": [
    "Skriv et program i den næste celle.  \n",
    "Når man starter programmet, spørger den \"How old are you?\".  \n",
    "Så kan man indtaste et tal.  \n",
    "Derefter svarer programmet med \"In ten years are you x years old.\" hvor x er det korrekte tal.\n",
    "(Tip: Muligvis har du brug for at google \"type casting python\".)"
   ]
  },
  {
   "cell_type": "code",
   "execution_count": null,
   "id": "c331ebc8-f07d-4593-8d98-ec4d0de38fed",
   "metadata": {},
   "outputs": [],
   "source": [
    "# Skriv dit program her."
   ]
  },
  {
   "cell_type": "markdown",
   "id": "4c5d22f7-2c1b-4054-a50d-2761ca9f67b9",
   "metadata": {},
   "source": [
    "##### [Læs afsnittet \"f-strings in Python\"](https://realpython.com/python-f-strings/#f-strings-a-new-and-improved-way-to-format-strings-in-python) (klik på linket)     \n",
    " For nu, bare læs de første 2 underafsnit \"Simple Syntax\" og \"Arbitrary Expressions\"."
   ]
  },
  {
   "cell_type": "code",
   "execution_count": null,
   "id": "1a892d25-feec-4520-9ab9-b83778c48c4c",
   "metadata": {},
   "outputs": [],
   "source": [
    "city = \"Copenhagen\"\n",
    "latitude = 56"
   ]
  },
  {
   "cell_type": "markdown",
   "id": "7a347189-a5a2-4de3-b2d0-c49d12e0ee87",
   "metadata": {},
   "source": [
    "Udfør de næste celler en ad gangen. Før du udfører en celle, regn resultatet ud på forhånd. Når du får et uventet resultat, find ud af hvorfor.\n",
    "Leg gerne med cellerne. Forandre dem og udfør dem igen. Du kan også tilføje nye celler."
   ]
  },
  {
   "cell_type": "code",
   "execution_count": null,
   "id": "78c458e0-0a1e-4c62-a56e-e4ec706494fb",
   "metadata": {},
   "outputs": [],
   "source": [
    "f\"{city} is located at {latitude} degrees latitude.\""
   ]
  },
  {
   "cell_type": "code",
   "execution_count": null,
   "id": "d7d2355d-544b-41c6-beff-5b19f93de0f4",
   "metadata": {},
   "outputs": [],
   "source": [
    "f\"{city[:3]}. is located at {latitude} degrees latitude.\""
   ]
  },
  {
   "cell_type": "code",
   "execution_count": null,
   "id": "bffc3647-90c4-41b4-a957-ef3be1fa5cbd",
   "metadata": {},
   "outputs": [],
   "source": [
    "f\"{city} is located {90 - latitude} degrees away from the north pole.\""
   ]
  },
  {
   "cell_type": "code",
   "execution_count": null,
   "id": "c11a86e2-3b53-44ea-a565-57fee8bd5422",
   "metadata": {},
   "outputs": [],
   "source": [
    "f\"{city} {latitude} {17*3}\""
   ]
  },
  {
   "cell_type": "markdown",
   "id": "29ea1122-b292-4eeb-bea5-948d832261bb",
   "metadata": {},
   "source": [
    "Specielt når du søger en fejl i dit program, er det følgende meget praktisk. Bare set et lighedstegn bag hvert udtryk i krøllet parenteser."
   ]
  },
  {
   "cell_type": "code",
   "execution_count": null,
   "id": "ba3196f8-3e52-4ffc-9a60-08a00958ea0f",
   "metadata": {},
   "outputs": [],
   "source": [
    "f\"{city=} {latitude=} {17*3=}\""
   ]
  },
  {
   "cell_type": "markdown",
   "id": "1035207c-9660-4c45-82d7-809583aa8c5c",
   "metadata": {},
   "source": [
    "Bemærk: når du bruger citationstegn (gåseøjne) indenfor en f-string, brug  den ene slags (enkelt  eller dobbelt) udenfor og den anden slags indenfor.  \n",
    "Eksempler:\n"
   ]
  },
  {
   "cell_type": "code",
   "execution_count": null,
   "id": "456110f8-fd24-47a9-8fdc-d9256280bf24",
   "metadata": {},
   "outputs": [],
   "source": [
    "f\" {'this is'} {'ok'} \""
   ]
  },
  {
   "cell_type": "code",
   "execution_count": null,
   "id": "109140fd-fe9f-4fd2-9127-8de727427b3e",
   "metadata": {},
   "outputs": [],
   "source": [
    "f' {\"this is\"} {\"also ok\"} '"
   ]
  },
  {
   "cell_type": "code",
   "execution_count": null,
   "id": "431b6301-b9c5-4ee1-a975-e1bcdc6eac72",
   "metadata": {},
   "outputs": [],
   "source": [
    "f\" {\"this \"}  {\" throws an error\"} \""
   ]
  },
  {
   "cell_type": "code",
   "execution_count": null,
   "id": "4f1e2bd4-4d40-48b0-a8a4-a38b5c79dbe2",
   "metadata": {},
   "outputs": [],
   "source": [
    "country = \"Norway\"\n",
    "continent = \"Europe\"\n",
    "population = 5400000\n",
    "area = 385000  # square kilometers"
   ]
  },
  {
   "cell_type": "markdown",
   "id": "67f3e047-5370-410b-b8a0-f04e9053f3b3",
   "metadata": {},
   "source": [
    "Tilføj kode til de følgende celler, sådan at resultatet bliver den udtryk i kommentaren. Brug variablerne country, continent, population, area."
   ]
  },
  {
   "cell_type": "code",
   "execution_count": null,
   "id": "06b9a8c8-fed3-4449-b5d6-162a00b86f01",
   "metadata": {},
   "outputs": [],
   "source": [
    "f\" \" # Norway is part of Europe."
   ]
  },
  {
   "cell_type": "code",
   "execution_count": null,
   "id": "5c757a41-d542-4a8a-ba9e-3b81e53a332f",
   "metadata": {},
   "outputs": [],
   "source": [
    "f\" \" # Norway has a population of 5400000."
   ]
  },
  {
   "cell_type": "code",
   "execution_count": null,
   "id": "ff1f7176-62e8-4b50-9a23-3f544b44ae8f",
   "metadata": {},
   "outputs": [],
   "source": [
    "# Calculate the correct value for x:\n",
    "f\" \" # Norway has a population density of x.  "
   ]
  },
  {
   "cell_type": "markdown",
   "id": "688754d8-fdee-4dfc-971a-8b81ad505e85",
   "metadata": {},
   "source": [
    "##### [Læs afsnittet \"Control Statements in Python\"](https://www.freecodecamp.org/news/the-python-handbook/#controlstatementsinpython)  (klik på linket)"
   ]
  },
  {
   "cell_type": "markdown",
   "id": "b1310800-2fd2-4298-addb-74112e484272",
   "metadata": {},
   "source": [
    "Udfør og den følgende celle og analyser hvad der sker.  \n",
    "Forandre programmet sådan at den printer \"number3<=number4\" når det er sandt."
   ]
  },
  {
   "cell_type": "code",
   "execution_count": null,
   "id": "61594c96-dd19-4665-af9a-5efc1b880026",
   "metadata": {},
   "outputs": [],
   "source": [
    "number3 = 25\n",
    "number4 = 11\n",
    "if number3 > number4:\n",
    "    print(\"number3>number4\")  # you can press tab or 4 spaces in order to indent a line"
   ]
  },
  {
   "cell_type": "markdown",
   "id": "b0341044-9447-4bad-a6b4-b5f9051c2adb",
   "metadata": {},
   "source": [
    "Udfør den følgende celle og analyser hvad der sker.  \n",
    "Forandre programmet sådan at en input større end 50 resulterer i output \"input is 50 or larger\""
   ]
  },
  {
   "cell_type": "code",
   "execution_count": null,
   "id": "0816123e-9f51-46db-8963-3b0b8df731d1",
   "metadata": {},
   "outputs": [],
   "source": [
    "number_input = int(input(\"type a number: \"))\n",
    "if number_input > 2 and number_input < 13:\n",
    "    print(\"input is between 2 and 13\")\n",
    "elif number_input > 12 and number_input < 19:\n",
    "    print(\"input is between 12 and 19\")\n",
    "elif number_input >= 19:\n",
    "    print(\"input is 19 or larger\")\n",
    "else:\n",
    "    print(\"input is 2 or less\")\n",
    "print(\"this gets always printed\")"
   ]
  },
  {
   "cell_type": "markdown",
   "id": "1851ee61-7ddb-4eac-84c7-6f5706f7cc19",
   "metadata": {},
   "source": [
    "Forstod/løste du alle opgaver på denne side?   \n",
    "Ellers spørg Google, [W3schools](https://www.w3schools.com/python/), andre elever eller læreren (i den rækkefølge).  \n",
    "__Når du forstår (næsten) alt på denne side, send denne tekst som Teams-besked til læreren:  Jeg er færdig med S0020.__"
   ]
  },
  {
   "cell_type": "markdown",
   "id": "1b76a24a-2091-410c-8ac4-57d4b0cf5599",
   "metadata": {},
   "source": [
    "Arbejd videre med den næste Jupyter Notebook."
   ]
  },
  {
   "cell_type": "code",
   "execution_count": null,
   "id": "7c985f72-4453-4208-b0c9-41e84dce0684",
   "metadata": {},
   "outputs": [],
   "source": []
  }
 ],
 "metadata": {
  "kernelspec": {
   "display_name": "Python 3 (ipykernel)",
   "language": "python",
   "name": "python3"
  },
  "language_info": {
   "codemirror_mode": {
    "name": "ipython",
    "version": 3
   },
   "file_extension": ".py",
   "mimetype": "text/x-python",
   "name": "python",
   "nbconvert_exporter": "python",
   "pygments_lexer": "ipython3",
   "version": "3.10.7"
  }
 },
 "nbformat": 4,
 "nbformat_minor": 5
}
