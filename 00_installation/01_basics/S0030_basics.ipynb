{
 "cells": [
  {
   "cell_type": "markdown",
   "id": "b3a904d5-251d-456f-802d-f50c64605e6e",
   "metadata": {},
   "source": [
    "I jupyter lab bliver den sidste udtryk i en celle automatisk printed når man udfører cellen.  \n",
    "Derfor benytter vi ikke print commands i denne notebook.   \n",
    "De fleste print-kommandoer på de foregående notebooks var derfor egentlig heller ikke nødvendig."
   ]
  },
  {
   "cell_type": "markdown",
   "id": "03fbec3e-7c5b-4e64-8a0b-5128293d4932",
   "metadata": {},
   "source": [
    "### Lists, Tuples, Dictionaries"
   ]
  },
  {
   "cell_type": "markdown",
   "id": "94730daf-cdd8-408e-a867-948237d4fba0",
   "metadata": {
    "tags": []
   },
   "source": [
    "##### [Læs afsnittet \"Lists in Python\"](https://www.freecodecamp.org/news/the-python-handbook/#listsinpython)  (klik på linket)"
   ]
  },
  {
   "cell_type": "code",
   "execution_count": null,
   "id": "5c1e543d-3070-4b58-ab3d-1914c411ac83",
   "metadata": {},
   "outputs": [],
   "source": [
    "numbers = [5, -2, 4, 17]"
   ]
  },
  {
   "cell_type": "markdown",
   "id": "dc38709c-551e-4ac0-a0a2-c1df27e5b1f8",
   "metadata": {},
   "source": [
    "Udfør de næste celler en ad gangen. Før du udfører en celle, regn resultatet ud på forhånd. Når du får et uventet resultat, find ud af hvorfor.\n",
    "Leg gerne med cellerne. Forandre dem og udfør dem igen. Du kan også tilføje nye celler."
   ]
  },
  {
   "cell_type": "code",
   "execution_count": null,
   "id": "29dc7307-5328-4e87-ac35-077f995a226c",
   "metadata": {},
   "outputs": [],
   "source": [
    "type(numbers)"
   ]
  },
  {
   "cell_type": "code",
   "execution_count": null,
   "id": "e5b706e2-11dc-42c3-962b-2d823364f97c",
   "metadata": {},
   "outputs": [],
   "source": [
    "len(numbers)"
   ]
  },
  {
   "cell_type": "code",
   "execution_count": null,
   "id": "7535c160-b104-46e6-be63-4973c2fbac3a",
   "metadata": {},
   "outputs": [],
   "source": [
    "17 in numbers"
   ]
  },
  {
   "cell_type": "code",
   "execution_count": null,
   "id": "ec5929d7-d6bb-45b4-a6ee-f83d2285a8f3",
   "metadata": {},
   "outputs": [],
   "source": [
    "2 in numbers"
   ]
  },
  {
   "cell_type": "code",
   "execution_count": null,
   "id": "c56c6491-b5c6-44d4-bcab-b7f28fd27e72",
   "metadata": {},
   "outputs": [],
   "source": [
    "numbers[0]"
   ]
  },
  {
   "cell_type": "code",
   "execution_count": null,
   "id": "e470b330-56d9-4d36-8043-04712e1986ed",
   "metadata": {},
   "outputs": [],
   "source": [
    "numbers[3]"
   ]
  },
  {
   "cell_type": "code",
   "execution_count": null,
   "id": "6da378c2-9c96-41cc-a736-8d8408f7f432",
   "metadata": {},
   "outputs": [],
   "source": [
    "numbers[-1]"
   ]
  },
  {
   "cell_type": "code",
   "execution_count": null,
   "id": "38fdcae1-0747-443f-8f9d-267211932f17",
   "metadata": {},
   "outputs": [],
   "source": [
    "numbers[:2]"
   ]
  },
  {
   "cell_type": "code",
   "execution_count": null,
   "id": "1a02b79f-a61a-4f24-b035-bc9757198bee",
   "metadata": {},
   "outputs": [],
   "source": [
    "numbers[2:]"
   ]
  },
  {
   "cell_type": "code",
   "execution_count": null,
   "id": "ca748d7a-2bf9-4128-8e44-6302260b91a5",
   "metadata": {},
   "outputs": [],
   "source": [
    "numbers.append(9)\n",
    "numbers.append(5)\n",
    "numbers"
   ]
  },
  {
   "cell_type": "code",
   "execution_count": null,
   "id": "dd26db4c-0bb5-44f5-8a19-673784327c13",
   "metadata": {},
   "outputs": [],
   "source": [
    "numbers[2:]"
   ]
  },
  {
   "cell_type": "code",
   "execution_count": null,
   "id": "6fa91586-87f0-44c7-8582-579e7da902c4",
   "metadata": {},
   "outputs": [],
   "source": [
    "len(numbers)"
   ]
  },
  {
   "cell_type": "code",
   "execution_count": null,
   "id": "0f9ab272-b57c-4295-af87-20b5b21de56d",
   "metadata": {},
   "outputs": [],
   "source": [
    "sorted(numbers)"
   ]
  },
  {
   "cell_type": "code",
   "execution_count": null,
   "id": "27f09566-5cf7-4085-bc0f-e342e1c3b48b",
   "metadata": {},
   "outputs": [],
   "source": [
    "numbers"
   ]
  },
  {
   "cell_type": "code",
   "execution_count": null,
   "id": "06524276-72bc-4937-aaa2-8348993d98ec",
   "metadata": {},
   "outputs": [],
   "source": [
    "numbers.sort()\n",
    "numbers"
   ]
  },
  {
   "cell_type": "code",
   "execution_count": null,
   "id": "fc657bbc-a469-4176-8683-694da994b5e6",
   "metadata": {},
   "outputs": [],
   "source": [
    "numbers"
   ]
  },
  {
   "cell_type": "markdown",
   "id": "7e5d1571-55f2-44c8-b800-bd208464020d",
   "metadata": {},
   "source": [
    "Tilføj kode til de følgende celler, sådan at resultatet bliver den udtryk i kommentaren."
   ]
  },
  {
   "cell_type": "code",
   "execution_count": null,
   "id": "f3c974bb-21c8-4937-9938-277d320614bc",
   "metadata": {},
   "outputs": [],
   "source": [
    "numbers[]  # 4"
   ]
  },
  {
   "cell_type": "code",
   "execution_count": null,
   "id": "11645ba2-3916-40a6-a38f-cd768cd6d919",
   "metadata": {},
   "outputs": [],
   "source": [
    "numbers[]  # 17"
   ]
  },
  {
   "cell_type": "code",
   "execution_count": null,
   "id": "5e442f0d-1164-48cb-a9d7-d58c9bd4ac31",
   "metadata": {},
   "outputs": [],
   "source": [
    "numbers[]  # [5, 5]"
   ]
  },
  {
   "cell_type": "code",
   "execution_count": null,
   "id": "f5c5502e-8802-424e-a2d6-a43476b09417",
   "metadata": {},
   "outputs": [],
   "source": [
    "numbers[]  # [5, 9, 17]"
   ]
  },
  {
   "cell_type": "code",
   "execution_count": null,
   "id": "0d163598-b78d-4da0-a0c8-6b4087c71b57",
   "metadata": {},
   "outputs": [],
   "source": [
    "numbers\n",
    "numbers  # [-2, 4, 5, 5, 9, 17, 3] "
   ]
  },
  {
   "cell_type": "markdown",
   "id": "9bc9b785-935e-4f9b-8c77-dd1dbc548569",
   "metadata": {
    "tags": []
   },
   "source": [
    "##### [Læs afsnittet \"Tuples in Python\"](https://www.freecodecamp.org/news/the-python-handbook/#tuplesinpython)  (klik på linket)"
   ]
  },
  {
   "cell_type": "code",
   "execution_count": null,
   "id": "59d8767e-8334-498c-9100-3b3bf411e3c3",
   "metadata": {},
   "outputs": [],
   "source": [
    "number_tuple = (18, 22, 7)\n",
    "number_tuple"
   ]
  },
  {
   "cell_type": "markdown",
   "id": "84552a3f-be7b-4f1f-bf44-b3009c0aaf3d",
   "metadata": {},
   "source": [
    "Udfør de næste celler en ad gangen. Før du udfører en celle, regn resultatet ud på forhånd. Når du får et uventet resultat, find ud af hvorfor.\n",
    "Leg gerne med cellerne. Forandre dem og udfør dem igen. Du kan også tilføje nye celler."
   ]
  },
  {
   "cell_type": "code",
   "execution_count": null,
   "id": "a45e6960-0a80-4922-8ede-b9780c03b218",
   "metadata": {},
   "outputs": [],
   "source": [
    "type(number_tuple)"
   ]
  },
  {
   "cell_type": "code",
   "execution_count": null,
   "id": "b7e6d71a-efdf-41d6-922c-6852a47d1736",
   "metadata": {},
   "outputs": [],
   "source": [
    "len(number_tuple)"
   ]
  },
  {
   "cell_type": "code",
   "execution_count": null,
   "id": "cf558e3c-8176-4f91-946a-0d4e537ab4c7",
   "metadata": {},
   "outputs": [],
   "source": [
    "x1 = number_tuple[0]\n",
    "x1"
   ]
  },
  {
   "cell_type": "code",
   "execution_count": null,
   "id": "e06e15aa-c625-4e4d-a71e-a067aaafa0a0",
   "metadata": {},
   "outputs": [],
   "source": [
    "22 in number_tuple"
   ]
  },
  {
   "cell_type": "code",
   "execution_count": null,
   "id": "14d374c0-b114-43c1-bd2d-3ed72b4a2177",
   "metadata": {},
   "outputs": [],
   "source": [
    "type(x1)"
   ]
  },
  {
   "cell_type": "code",
   "execution_count": null,
   "id": "cb78ada4-31e2-4cac-9ba2-26ccd90ff04a",
   "metadata": {},
   "outputs": [],
   "source": [
    "x2 = number_tuple[0:1]\n",
    "x2"
   ]
  },
  {
   "cell_type": "code",
   "execution_count": null,
   "id": "204d4141-5db4-43c1-a452-ddfa4244866d",
   "metadata": {},
   "outputs": [],
   "source": [
    "type(x2)"
   ]
  },
  {
   "cell_type": "code",
   "execution_count": null,
   "id": "a6755cf7-422b-45cd-888f-ac83eda76f27",
   "metadata": {},
   "outputs": [],
   "source": [
    "new_tuple = number_tuple + number_tuple\n",
    "new_tuple"
   ]
  },
  {
   "cell_type": "markdown",
   "id": "35237d10-db7b-469c-98fb-75cc07b363f2",
   "metadata": {
    "tags": []
   },
   "source": [
    "##### [Læs afsnittet \"Dictionaries in Python\"](https://www.freecodecamp.org/news/the-python-handbook/#dictionariesinpython) (klik på linket) "
   ]
  },
  {
   "cell_type": "markdown",
   "id": "292460db-c68c-4ea1-9988-5681834a5e32",
   "metadata": {},
   "source": [
    "Udfør de næste celler en ad gangen. Før du udfører en celle, regn resultatet ud på forhånd. Når du får et uventet resultat, find ud af hvorfor.\n",
    "Leg gerne med cellerne. Forandre dem og udfør dem igen. Du kan også tilføje nye celler."
   ]
  },
  {
   "cell_type": "code",
   "execution_count": null,
   "id": "e3046067-d655-4f20-a484-07e3cc39b2bd",
   "metadata": {},
   "outputs": [],
   "source": [
    "house = { 'street': 'broadway', 'number': 87 }\n",
    "house"
   ]
  },
  {
   "cell_type": "code",
   "execution_count": null,
   "id": "f931925a-a120-4c13-b584-cd1169801f95",
   "metadata": {},
   "outputs": [],
   "source": [
    "len(house)"
   ]
  },
  {
   "cell_type": "code",
   "execution_count": null,
   "id": "f80dcb87-a11a-4fee-a757-b3d1e7639058",
   "metadata": {},
   "outputs": [],
   "source": [
    "house['floors'] = 4\n",
    "house"
   ]
  },
  {
   "cell_type": "code",
   "execution_count": null,
   "id": "a34572ec-bfe7-406b-a647-0ea19acc6ec0",
   "metadata": {},
   "outputs": [],
   "source": [
    "house['street']"
   ]
  },
  {
   "cell_type": "code",
   "execution_count": null,
   "id": "cd02c76d-4cc5-42f4-af14-ecb6bdced2df",
   "metadata": {},
   "outputs": [],
   "source": [
    "len(house)"
   ]
  },
  {
   "cell_type": "code",
   "execution_count": null,
   "id": "4dfa9e0b-a752-49e7-9b06-78d667a81893",
   "metadata": {},
   "outputs": [],
   "source": [
    "house.keys()"
   ]
  },
  {
   "cell_type": "code",
   "execution_count": null,
   "id": "947897b4-3014-480c-b57c-d3b9fa0b1eb1",
   "metadata": {},
   "outputs": [],
   "source": [
    "house.values()"
   ]
  },
  {
   "cell_type": "markdown",
   "id": "69f49e82-8dee-4eb6-8546-f530af5c5501",
   "metadata": {},
   "source": [
    "Forstod/løste du alle opgaver på denne side?   \n",
    "Ellers spørg Google, [W3schools](https://www.w3schools.com/python/), andre elever eller læreren (i den rækkefølge).  \n",
    "__Når du forstår (næsten) alt på denne side, send denne tekst som Teams-besked til læreren:  Jeg er færdig med S0030.__"
   ]
  },
  {
   "cell_type": "markdown",
   "id": "cd53fecb-bed0-4c0f-b516-4eb3ea31fd64",
   "metadata": {},
   "source": [
    "Arbejd videre med den næste Jupyter Notebook."
   ]
  },
  {
   "cell_type": "code",
   "execution_count": null,
   "id": "13c6afac-9964-4443-86ef-a372e2682d18",
   "metadata": {},
   "outputs": [],
   "source": []
  }
 ],
 "metadata": {
  "kernelspec": {
   "display_name": "Python 3 (ipykernel)",
   "language": "python",
   "name": "python3"
  },
  "language_info": {
   "codemirror_mode": {
    "name": "ipython",
    "version": 3
   },
   "file_extension": ".py",
   "mimetype": "text/x-python",
   "name": "python",
   "nbconvert_exporter": "python",
   "pygments_lexer": "ipython3",
   "version": "3.10.7"
  }
 },
 "nbformat": 4,
 "nbformat_minor": 5
}
