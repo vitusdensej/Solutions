{
 "cells": [
  {
   "cell_type": "markdown",
   "id": "03fbec3e-7c5b-4e64-8a0b-5128293d4932",
   "metadata": {},
   "source": [
    "### Functions, while loops, for loops"
   ]
  },
  {
   "cell_type": "markdown",
   "id": "94730daf-cdd8-408e-a867-948237d4fba0",
   "metadata": {
    "tags": []
   },
   "source": [
    "##### [Læs afsnittet \"Functions in Python\"](https://www.freecodecamp.org/news/the-python-handbook/#functionsinpython) (klik på linket) "
   ]
  },
  {
   "cell_type": "code",
   "execution_count": 2,
   "id": "712d0d66-5e4a-4c0f-812f-e7f5a4b7e1e3",
   "metadata": {},
   "outputs": [],
   "source": [
    "def hello():\n",
    "    print(\"hello world\")\n",
    "\n",
    "\n",
    "def type_something():\n",
    "    user_input = input(\"click into the console window, then type something and press <return>:  \")\n",
    "    print(\"You typed: \" + user_input)"
   ]
  },
  {
   "cell_type": "markdown",
   "id": "6899002e-7bb0-487a-95a9-f574463dc388",
   "metadata": {},
   "source": [
    "Skriv et program i den næste celle, som kalder først funktionen hello og derefter funktionen type_something. Test det."
   ]
  },
  {
   "cell_type": "code",
   "execution_count": 3,
   "id": "182f0901-114f-4fc0-b1ed-0ffa2ff72694",
   "metadata": {},
   "outputs": [
    {
     "name": "stdout",
     "output_type": "stream",
     "text": [
      "hello world\n"
     ]
    },
    {
     "name": "stdin",
     "output_type": "stream",
     "text": [
      "click into the console window, then type something and press <return>:   lkfew\n"
     ]
    },
    {
     "name": "stdout",
     "output_type": "stream",
     "text": [
      "You typed: lkfew\n"
     ]
    }
   ],
   "source": [
    "# Skriv dit program herinde\n",
    "hello()\n",
    "type_something()"
   ]
  },
  {
   "cell_type": "markdown",
   "id": "52ea536e-22d6-4479-bb35-217a00c95564",
   "metadata": {},
   "source": [
    "Korriger funktionen i den næste celle og test det med hjælp af den næstfølgende celle."
   ]
  },
  {
   "cell_type": "code",
   "execution_count": 4,
   "id": "62aa0d8d-774e-4101-8a30-bde488972b84",
   "metadata": {},
   "outputs": [],
   "source": [
    "def multiply(number1, number2):  # multiplies number1 and number2\n",
    "    return number1 * number2"
   ]
  },
  {
   "cell_type": "markdown",
   "id": "fa764893-fe16-4c78-8e7f-495f8e698a54",
   "metadata": {},
   "source": [
    "number1 og number2 i den sidste celle kalder man __funktionens parametre__.  \n",
    "5 og 4 i den næste celle kalder man __argumenterne__.  \n",
    "Når man opkalder en funktion,  får parametrene argumenternes værdier.  "
   ]
  },
  {
   "cell_type": "code",
   "execution_count": 5,
   "id": "fe9b179c-5e1d-4419-9296-c1fecbcc6bec",
   "metadata": {},
   "outputs": [
    {
     "data": {
      "text/plain": [
       "20"
      ]
     },
     "execution_count": 5,
     "metadata": {},
     "output_type": "execute_result"
    }
   ],
   "source": [
    "multiply(5, 4)  # result should be 20"
   ]
  },
  {
   "cell_type": "markdown",
   "id": "66c2e14b-b8fc-409b-82ea-8a2903d19ab0",
   "metadata": {},
   "source": [
    " I den næste celle, skriv en funktion med navnet \"sign\".   \n",
    " Funktionen har en parameter \"number\" og returnerer teksten \"positive\", \"null\" eller \"negative\", afhængig af parameterens fortegn.    "
   ]
  },
  {
   "cell_type": "code",
   "execution_count": 12,
   "id": "3e6f05e2-6bf6-4ba7-8d02-985d994438db",
   "metadata": {},
   "outputs": [],
   "source": [
    "# Skriv din funktion herinde og udfør cellen\n",
    "# Derefter udfør den næste celle.\n",
    "def sign(n):\n",
    "    if n == 0:\n",
    "        return \"null\"\n",
    "    if n > 0:\n",
    "        return \"positive\"\n",
    "    else: \n",
    "        return \"negative\""
   ]
  },
  {
   "cell_type": "code",
   "execution_count": 13,
   "id": "946c287f-26f6-468b-8654-068fcab0e411",
   "metadata": {},
   "outputs": [
    {
     "name": "stdout",
     "output_type": "stream",
     "text": [
      "-6 is negative\n",
      "44 is positive\n",
      "0 is null\n"
     ]
    }
   ],
   "source": [
    "# Udføre denne celle for at teste din funktion sign() i den forrige celle.\n",
    "# Funktionen \"check\" opkalder din funktion \"sign\".\n",
    "def check(test_number):\n",
    "    print(test_number, \"is\", sign(test_number))\n",
    "\n",
    "check(-6)\n",
    "check(44)\n",
    "check(0)"
   ]
  },
  {
   "cell_type": "code",
   "execution_count": 14,
   "id": "4dc765f6-4425-4647-ac66-8ddecad20073",
   "metadata": {},
   "outputs": [],
   "source": [
    "def add(number1, number2=0, number3=0):  # Adds 3 numbers. The second and third parameter is optional and has a default value.\n",
    "    print(number1 + number2 + number3)"
   ]
  },
  {
   "cell_type": "markdown",
   "id": "f0d5aca7-f647-4dcf-9962-76f22b67531d",
   "metadata": {},
   "source": [
    "Udfør den næste celle. Forstå fejlmeldinger. Udkommenter fejlagtige  kodelinjer og udfør cellen igen."
   ]
  },
  {
   "cell_type": "code",
   "execution_count": 17,
   "id": "4e1e0607-9189-4530-b8f4-174ac10673df",
   "metadata": {},
   "outputs": [
    {
     "name": "stdout",
     "output_type": "stream",
     "text": [
      "5\n",
      "10\n",
      "16\n"
     ]
    }
   ],
   "source": [
    "#add()\n",
    "add(5)\n",
    "add(3, 7)\n",
    "add(3, 7, 6)\n",
    "#add(2, 6, 8, 10)"
   ]
  },
  {
   "cell_type": "markdown",
   "id": "182e5e97-f07c-4f80-9ee4-23960454dae1",
   "metadata": {},
   "source": [
    "##### Required positional parameters and optional parameters"
   ]
  },
  {
   "cell_type": "markdown",
   "id": "b29b19f3-ac80-487c-ba0c-6f0ac0d8fb91",
   "metadata": {},
   "source": [
    "Som udgangspunkt er funktionsparametre i Python obligatorisk (required) og parametrenes rækkefølge er relevant (positional).  \n",
    "Optionale parametre markeres ganske enkelt med default værdier.  \n",
    "Alle obligatoriske parametre skal dog komme før den første optionale parameter.  \n",
    "Når man kalder en funktion angives de optionale parametres navne."
   ]
  },
  {
   "cell_type": "code",
   "execution_count": 22,
   "id": "2982de81-2630-493f-b3f7-79d7cbc272e3",
   "metadata": {},
   "outputs": [],
   "source": [
    "def examplefunction(a, b, c=0, d=\"optional\"):\n",
    "    print(a, b, c, d)"
   ]
  },
  {
   "cell_type": "markdown",
   "id": "cba95c87-7620-4df4-860e-9abeaa0333d1",
   "metadata": {},
   "source": [
    "Udfør de næste celler en ad gangen. Før du udfører en celle, regn resultatet ud på forhånd. Når du får et uventet resultat, find ud af hvorfor.\n",
    "Leg gerne med cellerne. Forandre dem og udfør dem igen. Du kan også tilføje nye celler."
   ]
  },
  {
   "cell_type": "code",
   "execution_count": 23,
   "id": "7fdbb359-15de-466b-9b50-b8074db6cfa8",
   "metadata": {},
   "outputs": [
    {
     "name": "stdout",
     "output_type": "stream",
     "text": [
      "8 hello 0 optional\n"
     ]
    }
   ],
   "source": [
    "examplefunction(8, \"hello\")"
   ]
  },
  {
   "cell_type": "code",
   "execution_count": 24,
   "id": "34072cdf-9b78-458d-9f49-c9ee41878d9b",
   "metadata": {},
   "outputs": [
    {
     "name": "stdout",
     "output_type": "stream",
     "text": [
      "817 43 0 14\n"
     ]
    }
   ],
   "source": [
    "examplefunction(817, 43, d=14)"
   ]
  },
  {
   "cell_type": "code",
   "execution_count": 25,
   "id": "ee727013-81fb-4c18-9961-b721fc5f5bdc",
   "metadata": {},
   "outputs": [
    {
     "name": "stdout",
     "output_type": "stream",
     "text": [
      "817 43 14 optional\n"
     ]
    }
   ],
   "source": [
    "examplefunction(817, 43, c=14)"
   ]
  },
  {
   "cell_type": "code",
   "execution_count": 26,
   "id": "0e7e84cd-b566-4687-84ec-64ecef43d379",
   "metadata": {},
   "outputs": [
    {
     "ename": "SyntaxError",
     "evalue": "positional argument follows keyword argument (2083341499.py, line 1)",
     "output_type": "error",
     "traceback": [
      "\u001b[1;36m  Cell \u001b[1;32mIn[26], line 1\u001b[1;36m\u001b[0m\n\u001b[1;33m    examplefunction(c=817, 43, 14)\u001b[0m\n\u001b[1;37m                                 ^\u001b[0m\n\u001b[1;31mSyntaxError\u001b[0m\u001b[1;31m:\u001b[0m positional argument follows keyword argument\n"
     ]
    }
   ],
   "source": [
    "examplefunction(c=817, 43, 14)"
   ]
  },
  {
   "cell_type": "code",
   "execution_count": 27,
   "id": "e2d2137b-0a46-4924-9533-2954ea77011d",
   "metadata": {},
   "outputs": [
    {
     "ename": "TypeError",
     "evalue": "examplefunction() missing 1 required positional argument: 'b'",
     "output_type": "error",
     "traceback": [
      "\u001b[1;31m---------------------------------------------------------------------------\u001b[0m",
      "\u001b[1;31mTypeError\u001b[0m                                 Traceback (most recent call last)",
      "Cell \u001b[1;32mIn[27], line 1\u001b[0m\n\u001b[1;32m----> 1\u001b[0m \u001b[43mexamplefunction\u001b[49m\u001b[43m(\u001b[49m\u001b[38;5;241;43m817\u001b[39;49m\u001b[43m,\u001b[49m\u001b[43m \u001b[49m\u001b[43mc\u001b[49m\u001b[38;5;241;43m=\u001b[39;49m\u001b[38;5;241;43m43\u001b[39;49m\u001b[43m,\u001b[49m\u001b[43m \u001b[49m\u001b[43md\u001b[49m\u001b[38;5;241;43m=\u001b[39;49m\u001b[38;5;241;43m14\u001b[39;49m\u001b[43m)\u001b[49m\n",
      "\u001b[1;31mTypeError\u001b[0m: examplefunction() missing 1 required positional argument: 'b'"
     ]
    }
   ],
   "source": [
    "examplefunction(817, c=43, d=14)"
   ]
  },
  {
   "cell_type": "markdown",
   "id": "35237d10-db7b-469c-98fb-75cc07b363f2",
   "metadata": {
    "tags": []
   },
   "source": [
    "##### [Læs afsnittet \"Loops in Python\"](https://www.freecodecamp.org/news/the-python-handbook/#loopsinpython)  (klik på linket)"
   ]
  },
  {
   "cell_type": "markdown",
   "id": "629ac9fe-01d2-496c-a47b-739f1cbdc68b",
   "metadata": {},
   "source": [
    "Kig på programmet i den næste celle. Hvad tror du, gør den? Udfør koden. Forandre koden og prøv igen. Leg med den."
   ]
  },
  {
   "cell_type": "code",
   "execution_count": 30,
   "id": "4f5ad39f-e586-4d44-a978-e1c85d970fec",
   "metadata": {},
   "outputs": [
    {
     "name": "stdin",
     "output_type": "stream",
     "text": [
      "type a number 0\n",
      "type a number 2\n",
      "type a number 3\n",
      "type a number 4\n",
      "type a number 12\n",
      "type a number 14\n"
     ]
    }
   ],
   "source": [
    "big_enough = False\n",
    "while not big_enough:\n",
    "    number = int(input(\"type a number\"))\n",
    "    big_enough = number > 12"
   ]
  },
  {
   "cell_type": "markdown",
   "id": "222781a3-d004-4591-86b7-46d0e0dedb3d",
   "metadata": {},
   "source": [
    " Forandre koden i den næste celle sådan at bare ulige tal udskrives."
   ]
  },
  {
   "cell_type": "code",
   "execution_count": 31,
   "id": "4ee02809-687f-4b2e-80d4-609ceea0f4f8",
   "metadata": {},
   "outputs": [
    {
     "name": "stdout",
     "output_type": "stream",
     "text": [
      "7\n",
      "33\n"
     ]
    }
   ],
   "source": [
    "numberlist = [7, 33, 2, 8]\n",
    "for number in numberlist:\n",
    "    if number % 2 != 0:\n",
    "        print(number)"
   ]
  },
  {
   "cell_type": "markdown",
   "id": "01086222-5237-4730-8c5c-b8328cf62430",
   "metadata": {},
   "source": [
    " Forandre koden i den næste celle sådan at tallene 14, 18, 22, 26, 30 udskrives."
   ]
  },
  {
   "cell_type": "code",
   "execution_count": 33,
   "id": "884dd003-311c-4231-8214-d379e9b2d7d6",
   "metadata": {},
   "outputs": [
    {
     "name": "stdout",
     "output_type": "stream",
     "text": [
      "14\n",
      "18\n",
      "22\n",
      "26\n",
      "30\n"
     ]
    }
   ],
   "source": [
    "start = 14\n",
    "stop = 31\n",
    "step_size = 4\n",
    "numberrange = range(start, stop, step_size)\n",
    "for number in numberrange:\n",
    "    print(number)"
   ]
  },
  {
   "cell_type": "markdown",
   "id": "463401fa-774c-4ec2-9815-d61ebefb6d3d",
   "metadata": {},
   "source": [
    " Forandre koden i den næste celle sådan at ved siden af hvert tal udskrives også dens kvadrattal."
   ]
  },
  {
   "cell_type": "code",
   "execution_count": 34,
   "id": "13d99879-767f-4f17-8f20-9c5cf2fa4192",
   "metadata": {},
   "outputs": [
    {
     "name": "stdout",
     "output_type": "stream",
     "text": [
      "0 0\n",
      "1 1\n",
      "2 4\n",
      "3 9\n",
      "4 16\n"
     ]
    }
   ],
   "source": [
    "numberrange = range(5)\n",
    "for number in numberrange:\n",
    "    print(f\"{number} {number*number}\")"
   ]
  },
  {
   "cell_type": "markdown",
   "id": "69f49e82-8dee-4eb6-8546-f530af5c5501",
   "metadata": {},
   "source": [
    "Forstod/løste du alle opgaver på denne side?   \n",
    "Ellers spørg Google, [W3schools](https://www.w3schools.com/python/), andre elever eller læreren (i den rækkefølge).  \n",
    "__Når du forstår (næsten) alt på denne side, send denne tekst som Teams-besked til læreren:  Jeg er færdig med S0040.__"
   ]
  },
  {
   "cell_type": "markdown",
   "id": "e586a853-706a-4c16-9cbb-8b6fa52d61d3",
   "metadata": {},
   "source": [
    " Åbn pycharm og arbejd videre med S0100_test.py."
   ]
  },
  {
   "cell_type": "code",
   "execution_count": null,
   "id": "128a1999-9f38-4216-be3d-0b807cf5aca6",
   "metadata": {},
   "outputs": [],
   "source": []
  }
 ],
 "metadata": {
  "kernelspec": {
   "display_name": "Python 3 (ipykernel)",
   "language": "python",
   "name": "python3"
  },
  "language_info": {
   "codemirror_mode": {
    "name": "ipython",
    "version": 3
   },
   "file_extension": ".py",
   "mimetype": "text/x-python",
   "name": "python",
   "nbconvert_exporter": "python",
   "pygments_lexer": "ipython3",
   "version": "3.11.5"
  }
 },
 "nbformat": 4,
 "nbformat_minor": 5
}
