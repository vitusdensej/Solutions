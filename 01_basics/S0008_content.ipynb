{
 "cells": [
  {
   "cell_type": "markdown",
   "id": "21d7bcb6-ff33-4be5-b1f0-32a80c4a03bf",
   "metadata": {},
   "source": [
    "# Software Konstruktion S1"
   ]
  },
  {
   "cell_type": "markdown",
   "id": "9b20026d-c6d7-4081-a7ac-b69cd1755a3c",
   "metadata": {
    "jp-MarkdownHeadingCollapsed": true,
    "tags": []
   },
   "source": [
    "#### Kapitel 1: Introduktion til Python (mappe 01_basics)    \n",
    "* Variables, Assignments, Operators\n",
    "* String Operations, User Input, f-strings, Control Statements\n",
    "* Lists, Tuples, Dictionaries\n",
    "* Functions, while loops, for loops\n",
    "* Væn dig til pycharm og github\n",
    "* Anvend det, du har lært i introduktionen for at løse nogle programmeringsopgaver"
   ]
  },
  {
   "cell_type": "markdown",
   "id": "50e8dfdd-513a-4c00-a10e-bfc8aa32548a",
   "metadata": {},
   "source": [
    "####  Kapitel 2: Objekt orienteret programmering (mappe 02_oop)\n",
    "* Classes, methods, attributes\n",
    "* Constructor\n",
    "* Inheritance and polymorphism\n",
    "* Encapsulation\n",
    "* Anvend det, du har lært for at løse nogle programmeringsopgaver med OOP"
   ]
  },
  {
   "cell_type": "markdown",
   "id": "f3e4af2b-97f9-413d-afa1-6df6bb1b4fa5",
   "metadata": {
    "jp-MarkdownHeadingCollapsed": true,
    "tags": []
   },
   "source": [
    "#### Kapitel 3: Udfordrende opgaver (mappe 03_fun)  \n",
    "* Indfører ingen nye programmerings-koncepter\n",
    "* Kræver kreativitet og lidt avancerede algoritmer"
   ]
  },
  {
   "cell_type": "markdown",
   "source": [
    "# Software Konstruktion S2"
   ],
   "metadata": {
    "collapsed": false
   },
   "id": "7e2d151017ad4495"
  },
  {
   "cell_type": "markdown",
   "id": "a39f1920-4a94-4c7c-9597-686edaa1b6a1",
   "metadata": {},
   "source": [
    "#### Kapitel 4: GUI (mappe 10_gui)\n",
    "* Lær biblioteket tkinter at kende\n",
    "* Brug widgets som Button, Frame, Labelframe, Treeview for at bygge en GUI"
   ]
  },
  {
   "cell_type": "markdown",
   "id": "dfc22284-a7d1-402e-8e0b-c970e3a3c8a1",
   "metadata": {
    "tags": []
   },
   "source": [
    "#### Kapitel 5: Database (mappe 20_sql_database)\n",
    "* Installer biblioteket sqlalchemy og lær den at kende\n",
    "* Opret en table i en SQL-Database og en tilsvarende klasse i Python med Object Related Mapping (ORM)\n",
    "* Skriv testdata ind i databasen og læs den igen fra databasen"
   ]
  },
  {
   "cell_type": "markdown",
   "id": "56dbd237-f22d-4567-b261-062c4a575d21",
   "metadata": {
    "tags": []
   },
   "source": [
    "#### Kapitel 6: DanskCargo (mappe 30_danskcargo)\n",
    "* En eksempel-løsning til et S2-eksamensopgave beskrives trin for trin.\n",
    "* Anvend din viden om Python, GUI og SQL for første gang i en større opgave.\n"
   ]
  },
  {
   "cell_type": "markdown",
   "id": "4f83a320-7007-4481-bd6c-513b1b17b8c4",
   "metadata": {
    "tags": []
   },
   "source": [
    "#### Kapitel 7: PlusBus (mappe 50_plusbus)\n",
    "* Uddyb din viden og få mere rutine ved at løse en opgave, der ligner den i det foregående kapitel. \n",
    "* Denne gang får du mindre støtte fra opgaven.\n"
   ]
  },
  {
   "cell_type": "markdown",
   "source": [
    "# Software Konstruktion for Eksperter"
   ],
   "metadata": {
    "collapsed": false
   },
   "id": "37c9b3421758f0c1"
  },
  {
   "cell_type": "markdown",
   "source": [
    "* Yderligere materiale, tips og tricks\n",
    "* Data Analysis\n",
    "* Machine Learning\n",
    "* Projekter"
   ],
   "metadata": {
    "collapsed": false
   },
   "id": "d043ed3ab7c3cc61"
  },
  {
   "cell_type": "code",
   "execution_count": null,
   "outputs": [],
   "source": [],
   "metadata": {
    "collapsed": false,
    "ExecuteTime": {
     "end_time": "2023-09-02T11:38:26.117634800Z",
     "start_time": "2023-09-02T11:38:26.101636100Z"
    }
   },
   "id": "90d3b059bda2fa91"
  }
 ],
 "metadata": {
  "kernelspec": {
   "display_name": "Python 3 (ipykernel)",
   "language": "python",
   "name": "python3"
  },
  "language_info": {
   "codemirror_mode": {
    "name": "ipython",
    "version": 3
   },
   "file_extension": ".py",
   "mimetype": "text/x-python",
   "name": "python",
   "nbconvert_exporter": "python",
   "pygments_lexer": "ipython3",
   "version": "3.10.7"
  }
 },
 "nbformat": 4,
 "nbformat_minor": 5
}
